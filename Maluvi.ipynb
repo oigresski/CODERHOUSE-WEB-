{
  "nbformat": 4,
  "nbformat_minor": 0,
  "metadata": {
    "colab": {
      "provenance": [],
      "include_colab_link": true
    },
    "kernelspec": {
      "name": "python3",
      "display_name": "Python 3"
    },
    "language_info": {
      "name": "python"
    }
  },
  "cells": [
    {
      "cell_type": "markdown",
      "metadata": {
        "id": "view-in-github",
        "colab_type": "text"
      },
      "source": [
        "<a href=\"https://colab.research.google.com/github/oigresski/CODERHOUSE-WEB-/blob/main/Maluvi.ipynb\" target=\"_parent\"><img src=\"https://colab.research.google.com/assets/colab-badge.svg\" alt=\"Open In Colab\"/></a>"
      ]
    },
    {
      "cell_type": "code",
      "execution_count": null,
      "metadata": {
        "id": "PtOC-pUmSZvV"
      },
      "outputs": [],
      "source": [
        "### Cargar las Librerias\n",
        "%config IPCompleter.greedy=True\n",
        "import pandas as pd\n",
        "import numpy as np\n",
        "import xlrd\n",
        "import seaborn as sb\n",
        "import matplotlib.pyplot as plt\n",
        "from matplotlib.ticker import PercentFormatter"
      ]
    },
    {
      "cell_type": "code",
      "source": [
        "### Permiso al drive\n",
        "from google.colab import files\n",
        "from google.colab import drive\n",
        "drive.mount('/content/drive')\n"
      ],
      "metadata": {
        "colab": {
          "base_uri": "https://localhost:8080/"
        },
        "id": "VpJ78COOVXYI",
        "outputId": "e0d5e5d9-655e-4e66-c689-c4cec4dab417"
      },
      "execution_count": null,
      "outputs": [
        {
          "output_type": "stream",
          "name": "stdout",
          "text": [
            "Mounted at /content/drive\n"
          ]
        }
      ]
    },
    {
      "cell_type": "code",
      "source": [
        "### Cargar base de datos\n",
        "import pandas as pd\n",
        "df1 = pd.read_excel(\"/content/drive/MyDrive/DATA_DE_VENTAS_MALUVIJ (3) (2).xlsx\")\n",
        "df2 = pd.read_excel(\"/content/drive/MyDrive/DATA_ENCUESTA.xlsx\")\n",
        "df3 = pd.read_excel(\"/content/drive/MyDrive/DATA REDES.xlsx\")\n",
        "df1.shape\n",
        "#df2.shape\n",
        "#df3.shape"
      ],
      "metadata": {
        "colab": {
          "base_uri": "https://localhost:8080/"
        },
        "id": "utkGL7BOXIzb",
        "outputId": "cb2fe541-6f70-47b0-849b-f81f14194cc4"
      },
      "execution_count": null,
      "outputs": [
        {
          "output_type": "execute_result",
          "data": {
            "text/plain": [
              "(29, 2)"
            ]
          },
          "metadata": {},
          "execution_count": 4
        }
      ]
    },
    {
      "cell_type": "code",
      "source": [
        "### verificar tipos de datos 1\n",
        "df1.dtypes"
      ],
      "metadata": {
        "colab": {
          "base_uri": "https://localhost:8080/"
        },
        "id": "BeSUi2p1ZfQg",
        "outputId": "dfe0e9bd-3b5a-4b84-c279-b733248d8006"
      },
      "execution_count": null,
      "outputs": [
        {
          "output_type": "execute_result",
          "data": {
            "text/plain": [
              "Edad     float64\n",
              "Venta    float64\n",
              "dtype: object"
            ]
          },
          "metadata": {},
          "execution_count": 5
        }
      ]
    },
    {
      "cell_type": "code",
      "source": [
        "### verificar tipos de datos 2\n",
        "df2.dtypes"
      ],
      "metadata": {
        "colab": {
          "base_uri": "https://localhost:8080/"
        },
        "id": "J02wTO4uaan-",
        "outputId": "229941b8-5c7f-46a9-ce15-af014f08ff7a"
      },
      "execution_count": null,
      "outputs": [
        {
          "output_type": "execute_result",
          "data": {
            "text/plain": [
              "¿Cómo sería tu tipo de pantalón ideal?                         object\n",
              "¿Te gustan los pantalones de tela french terry (elásticos)     object\n",
              "¿Cuál es tu talla?                                            float64\n",
              "¿Cuál es tu color favorito para un pantalón?                   object\n",
              "¿Cuándo compras un pantalón, qué prefieres?                    object\n",
              "¿Cuánto estarías dispuesto a pagar por un pantalón?            object\n",
              "¿Conoces los pantalones con faja levanta glúteos?              object\n",
              "dtype: object"
            ]
          },
          "metadata": {},
          "execution_count": 6
        }
      ]
    },
    {
      "cell_type": "code",
      "source": [
        "### verificar tipos de datos 3\n",
        "df3.dtypes"
      ],
      "metadata": {
        "colab": {
          "base_uri": "https://localhost:8080/"
        },
        "id": "WH12BKo9a5uK",
        "outputId": "fc87112e-d4dc-4d08-be66-2ac14b22e7e2"
      },
      "execution_count": null,
      "outputs": [
        {
          "output_type": "execute_result",
          "data": {
            "text/plain": [
              "Red                                                      object\n",
              "Visitas al perfil                                       float64\n",
              "Seguidores                                              float64\n",
              "Nuevos seguidores                                       float64\n",
              "Alcance con publicidad                                  float64\n",
              "Interacción con anuncios                                float64\n",
              "Conversaciones con mensajes iniciadas con anuncios      float64\n",
              "Ventas con anuncio                                      float64\n",
              "Alcance sin publicidad                                  float64\n",
              "Interacción sin publicidad                                int64\n",
              "Conversaciones con mensajes iniciadas sin publicidad      int64\n",
              "Ventas sin anuncio                                      float64\n",
              "dtype: object"
            ]
          },
          "metadata": {},
          "execution_count": 7
        }
      ]
    },
    {
      "cell_type": "code",
      "source": [
        "### Llamar datos 1\n",
        "df1.head(5)"
      ],
      "metadata": {
        "colab": {
          "base_uri": "https://localhost:8080/",
          "height": 206
        },
        "id": "-GYuVkJsbAlT",
        "outputId": "222cce62-b2ee-4a08-be23-de325347f146"
      },
      "execution_count": null,
      "outputs": [
        {
          "output_type": "execute_result",
          "data": {
            "text/plain": [
              "   Edad  Venta\n",
              "0  20.0   95.0\n",
              "1  21.0   97.0\n",
              "2  22.0   97.0\n",
              "3  23.0   97.0\n",
              "4  24.0   99.0"
            ],
            "text/html": [
              "\n",
              "  <div id=\"df-ae9bd4b6-bcde-459f-b120-956906754c94\">\n",
              "    <div class=\"colab-df-container\">\n",
              "      <div>\n",
              "<style scoped>\n",
              "    .dataframe tbody tr th:only-of-type {\n",
              "        vertical-align: middle;\n",
              "    }\n",
              "\n",
              "    .dataframe tbody tr th {\n",
              "        vertical-align: top;\n",
              "    }\n",
              "\n",
              "    .dataframe thead th {\n",
              "        text-align: right;\n",
              "    }\n",
              "</style>\n",
              "<table border=\"1\" class=\"dataframe\">\n",
              "  <thead>\n",
              "    <tr style=\"text-align: right;\">\n",
              "      <th></th>\n",
              "      <th>Edad</th>\n",
              "      <th>Venta</th>\n",
              "    </tr>\n",
              "  </thead>\n",
              "  <tbody>\n",
              "    <tr>\n",
              "      <th>0</th>\n",
              "      <td>20.0</td>\n",
              "      <td>95.0</td>\n",
              "    </tr>\n",
              "    <tr>\n",
              "      <th>1</th>\n",
              "      <td>21.0</td>\n",
              "      <td>97.0</td>\n",
              "    </tr>\n",
              "    <tr>\n",
              "      <th>2</th>\n",
              "      <td>22.0</td>\n",
              "      <td>97.0</td>\n",
              "    </tr>\n",
              "    <tr>\n",
              "      <th>3</th>\n",
              "      <td>23.0</td>\n",
              "      <td>97.0</td>\n",
              "    </tr>\n",
              "    <tr>\n",
              "      <th>4</th>\n",
              "      <td>24.0</td>\n",
              "      <td>99.0</td>\n",
              "    </tr>\n",
              "  </tbody>\n",
              "</table>\n",
              "</div>\n",
              "      <button class=\"colab-df-convert\" onclick=\"convertToInteractive('df-ae9bd4b6-bcde-459f-b120-956906754c94')\"\n",
              "              title=\"Convert this dataframe to an interactive table.\"\n",
              "              style=\"display:none;\">\n",
              "        \n",
              "  <svg xmlns=\"http://www.w3.org/2000/svg\" height=\"24px\"viewBox=\"0 0 24 24\"\n",
              "       width=\"24px\">\n",
              "    <path d=\"M0 0h24v24H0V0z\" fill=\"none\"/>\n",
              "    <path d=\"M18.56 5.44l.94 2.06.94-2.06 2.06-.94-2.06-.94-.94-2.06-.94 2.06-2.06.94zm-11 1L8.5 8.5l.94-2.06 2.06-.94-2.06-.94L8.5 2.5l-.94 2.06-2.06.94zm10 10l.94 2.06.94-2.06 2.06-.94-2.06-.94-.94-2.06-.94 2.06-2.06.94z\"/><path d=\"M17.41 7.96l-1.37-1.37c-.4-.4-.92-.59-1.43-.59-.52 0-1.04.2-1.43.59L10.3 9.45l-7.72 7.72c-.78.78-.78 2.05 0 2.83L4 21.41c.39.39.9.59 1.41.59.51 0 1.02-.2 1.41-.59l7.78-7.78 2.81-2.81c.8-.78.8-2.07 0-2.86zM5.41 20L4 18.59l7.72-7.72 1.47 1.35L5.41 20z\"/>\n",
              "  </svg>\n",
              "      </button>\n",
              "      \n",
              "  <style>\n",
              "    .colab-df-container {\n",
              "      display:flex;\n",
              "      flex-wrap:wrap;\n",
              "      gap: 12px;\n",
              "    }\n",
              "\n",
              "    .colab-df-convert {\n",
              "      background-color: #E8F0FE;\n",
              "      border: none;\n",
              "      border-radius: 50%;\n",
              "      cursor: pointer;\n",
              "      display: none;\n",
              "      fill: #1967D2;\n",
              "      height: 32px;\n",
              "      padding: 0 0 0 0;\n",
              "      width: 32px;\n",
              "    }\n",
              "\n",
              "    .colab-df-convert:hover {\n",
              "      background-color: #E2EBFA;\n",
              "      box-shadow: 0px 1px 2px rgba(60, 64, 67, 0.3), 0px 1px 3px 1px rgba(60, 64, 67, 0.15);\n",
              "      fill: #174EA6;\n",
              "    }\n",
              "\n",
              "    [theme=dark] .colab-df-convert {\n",
              "      background-color: #3B4455;\n",
              "      fill: #D2E3FC;\n",
              "    }\n",
              "\n",
              "    [theme=dark] .colab-df-convert:hover {\n",
              "      background-color: #434B5C;\n",
              "      box-shadow: 0px 1px 3px 1px rgba(0, 0, 0, 0.15);\n",
              "      filter: drop-shadow(0px 1px 2px rgba(0, 0, 0, 0.3));\n",
              "      fill: #FFFFFF;\n",
              "    }\n",
              "  </style>\n",
              "\n",
              "      <script>\n",
              "        const buttonEl =\n",
              "          document.querySelector('#df-ae9bd4b6-bcde-459f-b120-956906754c94 button.colab-df-convert');\n",
              "        buttonEl.style.display =\n",
              "          google.colab.kernel.accessAllowed ? 'block' : 'none';\n",
              "\n",
              "        async function convertToInteractive(key) {\n",
              "          const element = document.querySelector('#df-ae9bd4b6-bcde-459f-b120-956906754c94');\n",
              "          const dataTable =\n",
              "            await google.colab.kernel.invokeFunction('convertToInteractive',\n",
              "                                                     [key], {});\n",
              "          if (!dataTable) return;\n",
              "\n",
              "          const docLinkHtml = 'Like what you see? Visit the ' +\n",
              "            '<a target=\"_blank\" href=https://colab.research.google.com/notebooks/data_table.ipynb>data table notebook</a>'\n",
              "            + ' to learn more about interactive tables.';\n",
              "          element.innerHTML = '';\n",
              "          dataTable['output_type'] = 'display_data';\n",
              "          await google.colab.output.renderOutput(dataTable, element);\n",
              "          const docLink = document.createElement('div');\n",
              "          docLink.innerHTML = docLinkHtml;\n",
              "          element.appendChild(docLink);\n",
              "        }\n",
              "      </script>\n",
              "    </div>\n",
              "  </div>\n",
              "  "
            ]
          },
          "metadata": {},
          "execution_count": 7
        }
      ]
    },
    {
      "cell_type": "code",
      "source": [
        "### Llamar datos 2\n",
        "df2.head(5)"
      ],
      "metadata": {
        "id": "ezPxF6TmbWug",
        "outputId": "c180e5b0-a508-48a1-95d0-7a07527f29a8",
        "colab": {
          "base_uri": "https://localhost:8080/",
          "height": 285
        }
      },
      "execution_count": null,
      "outputs": [
        {
          "output_type": "execute_result",
          "data": {
            "text/plain": [
              "  ¿Cómo sería tu tipo de pantalón ideal?  \\\n",
              "0                            Skinny jean   \n",
              "1                           Palazzo jean   \n",
              "2                            Skinny jean   \n",
              "3                               Mom jean   \n",
              "4                               Mom jean   \n",
              "\n",
              "  ¿Te gustan los pantalones de tela french terry (elásticos)  \\\n",
              "0                                                 Sí           \n",
              "1                                                 Sí           \n",
              "2                                                 Sí           \n",
              "3                                                 Sí           \n",
              "4                                                 Sí           \n",
              "\n",
              "   ¿Cuál es tu talla? ¿Cuál es tu color favorito para un pantalón?  \\\n",
              "0                32.0                                         Azul   \n",
              "1                30.0                                        Negro   \n",
              "2                32.0                                        Negro   \n",
              "3                32.0                                        Negro   \n",
              "4                32.0                                        Negro   \n",
              "\n",
              "  ¿Cuándo compras un pantalón, qué prefieres?  \\\n",
              "0                                     Calidad   \n",
              "1                                     Calidad   \n",
              "2                                     Calidad   \n",
              "3                                     Calidad   \n",
              "4                                     Calidad   \n",
              "\n",
              "  ¿Cuánto estarías dispuesto a pagar por un pantalón?  \\\n",
              "0                                          100 soles    \n",
              "1                                          150 soles    \n",
              "2                                           50 soles    \n",
              "3                                           50 soles    \n",
              "4                                          100 soles    \n",
              "\n",
              "  ¿Conoces los pantalones con faja levanta glúteos?  \n",
              "0                                                No  \n",
              "1                                                No  \n",
              "2                                                No  \n",
              "3                                                No  \n",
              "4                                                Sí  "
            ],
            "text/html": [
              "\n",
              "  <div id=\"df-30b595a0-8ff2-4fb2-a009-443d238fea0a\">\n",
              "    <div class=\"colab-df-container\">\n",
              "      <div>\n",
              "<style scoped>\n",
              "    .dataframe tbody tr th:only-of-type {\n",
              "        vertical-align: middle;\n",
              "    }\n",
              "\n",
              "    .dataframe tbody tr th {\n",
              "        vertical-align: top;\n",
              "    }\n",
              "\n",
              "    .dataframe thead th {\n",
              "        text-align: right;\n",
              "    }\n",
              "</style>\n",
              "<table border=\"1\" class=\"dataframe\">\n",
              "  <thead>\n",
              "    <tr style=\"text-align: right;\">\n",
              "      <th></th>\n",
              "      <th>¿Cómo sería tu tipo de pantalón ideal?</th>\n",
              "      <th>¿Te gustan los pantalones de tela french terry (elásticos)</th>\n",
              "      <th>¿Cuál es tu talla?</th>\n",
              "      <th>¿Cuál es tu color favorito para un pantalón?</th>\n",
              "      <th>¿Cuándo compras un pantalón, qué prefieres?</th>\n",
              "      <th>¿Cuánto estarías dispuesto a pagar por un pantalón?</th>\n",
              "      <th>¿Conoces los pantalones con faja levanta glúteos?</th>\n",
              "    </tr>\n",
              "  </thead>\n",
              "  <tbody>\n",
              "    <tr>\n",
              "      <th>0</th>\n",
              "      <td>Skinny jean</td>\n",
              "      <td>Sí</td>\n",
              "      <td>32.0</td>\n",
              "      <td>Azul</td>\n",
              "      <td>Calidad</td>\n",
              "      <td>100 soles</td>\n",
              "      <td>No</td>\n",
              "    </tr>\n",
              "    <tr>\n",
              "      <th>1</th>\n",
              "      <td>Palazzo jean</td>\n",
              "      <td>Sí</td>\n",
              "      <td>30.0</td>\n",
              "      <td>Negro</td>\n",
              "      <td>Calidad</td>\n",
              "      <td>150 soles</td>\n",
              "      <td>No</td>\n",
              "    </tr>\n",
              "    <tr>\n",
              "      <th>2</th>\n",
              "      <td>Skinny jean</td>\n",
              "      <td>Sí</td>\n",
              "      <td>32.0</td>\n",
              "      <td>Negro</td>\n",
              "      <td>Calidad</td>\n",
              "      <td>50 soles</td>\n",
              "      <td>No</td>\n",
              "    </tr>\n",
              "    <tr>\n",
              "      <th>3</th>\n",
              "      <td>Mom jean</td>\n",
              "      <td>Sí</td>\n",
              "      <td>32.0</td>\n",
              "      <td>Negro</td>\n",
              "      <td>Calidad</td>\n",
              "      <td>50 soles</td>\n",
              "      <td>No</td>\n",
              "    </tr>\n",
              "    <tr>\n",
              "      <th>4</th>\n",
              "      <td>Mom jean</td>\n",
              "      <td>Sí</td>\n",
              "      <td>32.0</td>\n",
              "      <td>Negro</td>\n",
              "      <td>Calidad</td>\n",
              "      <td>100 soles</td>\n",
              "      <td>Sí</td>\n",
              "    </tr>\n",
              "  </tbody>\n",
              "</table>\n",
              "</div>\n",
              "      <button class=\"colab-df-convert\" onclick=\"convertToInteractive('df-30b595a0-8ff2-4fb2-a009-443d238fea0a')\"\n",
              "              title=\"Convert this dataframe to an interactive table.\"\n",
              "              style=\"display:none;\">\n",
              "        \n",
              "  <svg xmlns=\"http://www.w3.org/2000/svg\" height=\"24px\"viewBox=\"0 0 24 24\"\n",
              "       width=\"24px\">\n",
              "    <path d=\"M0 0h24v24H0V0z\" fill=\"none\"/>\n",
              "    <path d=\"M18.56 5.44l.94 2.06.94-2.06 2.06-.94-2.06-.94-.94-2.06-.94 2.06-2.06.94zm-11 1L8.5 8.5l.94-2.06 2.06-.94-2.06-.94L8.5 2.5l-.94 2.06-2.06.94zm10 10l.94 2.06.94-2.06 2.06-.94-2.06-.94-.94-2.06-.94 2.06-2.06.94z\"/><path d=\"M17.41 7.96l-1.37-1.37c-.4-.4-.92-.59-1.43-.59-.52 0-1.04.2-1.43.59L10.3 9.45l-7.72 7.72c-.78.78-.78 2.05 0 2.83L4 21.41c.39.39.9.59 1.41.59.51 0 1.02-.2 1.41-.59l7.78-7.78 2.81-2.81c.8-.78.8-2.07 0-2.86zM5.41 20L4 18.59l7.72-7.72 1.47 1.35L5.41 20z\"/>\n",
              "  </svg>\n",
              "      </button>\n",
              "      \n",
              "  <style>\n",
              "    .colab-df-container {\n",
              "      display:flex;\n",
              "      flex-wrap:wrap;\n",
              "      gap: 12px;\n",
              "    }\n",
              "\n",
              "    .colab-df-convert {\n",
              "      background-color: #E8F0FE;\n",
              "      border: none;\n",
              "      border-radius: 50%;\n",
              "      cursor: pointer;\n",
              "      display: none;\n",
              "      fill: #1967D2;\n",
              "      height: 32px;\n",
              "      padding: 0 0 0 0;\n",
              "      width: 32px;\n",
              "    }\n",
              "\n",
              "    .colab-df-convert:hover {\n",
              "      background-color: #E2EBFA;\n",
              "      box-shadow: 0px 1px 2px rgba(60, 64, 67, 0.3), 0px 1px 3px 1px rgba(60, 64, 67, 0.15);\n",
              "      fill: #174EA6;\n",
              "    }\n",
              "\n",
              "    [theme=dark] .colab-df-convert {\n",
              "      background-color: #3B4455;\n",
              "      fill: #D2E3FC;\n",
              "    }\n",
              "\n",
              "    [theme=dark] .colab-df-convert:hover {\n",
              "      background-color: #434B5C;\n",
              "      box-shadow: 0px 1px 3px 1px rgba(0, 0, 0, 0.15);\n",
              "      filter: drop-shadow(0px 1px 2px rgba(0, 0, 0, 0.3));\n",
              "      fill: #FFFFFF;\n",
              "    }\n",
              "  </style>\n",
              "\n",
              "      <script>\n",
              "        const buttonEl =\n",
              "          document.querySelector('#df-30b595a0-8ff2-4fb2-a009-443d238fea0a button.colab-df-convert');\n",
              "        buttonEl.style.display =\n",
              "          google.colab.kernel.accessAllowed ? 'block' : 'none';\n",
              "\n",
              "        async function convertToInteractive(key) {\n",
              "          const element = document.querySelector('#df-30b595a0-8ff2-4fb2-a009-443d238fea0a');\n",
              "          const dataTable =\n",
              "            await google.colab.kernel.invokeFunction('convertToInteractive',\n",
              "                                                     [key], {});\n",
              "          if (!dataTable) return;\n",
              "\n",
              "          const docLinkHtml = 'Like what you see? Visit the ' +\n",
              "            '<a target=\"_blank\" href=https://colab.research.google.com/notebooks/data_table.ipynb>data table notebook</a>'\n",
              "            + ' to learn more about interactive tables.';\n",
              "          element.innerHTML = '';\n",
              "          dataTable['output_type'] = 'display_data';\n",
              "          await google.colab.output.renderOutput(dataTable, element);\n",
              "          const docLink = document.createElement('div');\n",
              "          docLink.innerHTML = docLinkHtml;\n",
              "          element.appendChild(docLink);\n",
              "        }\n",
              "      </script>\n",
              "    </div>\n",
              "  </div>\n",
              "  "
            ]
          },
          "metadata": {},
          "execution_count": 9
        }
      ]
    },
    {
      "cell_type": "code",
      "source": [
        "### Llamar datos 3\n",
        "df3.head(5)"
      ],
      "metadata": {
        "id": "D9AZwcQFbYq5",
        "outputId": "b4d804b5-5a5e-4c08-a72f-37aea08481c7",
        "colab": {
          "base_uri": "https://localhost:8080/",
          "height": 191
        }
      },
      "execution_count": null,
      "outputs": [
        {
          "output_type": "execute_result",
          "data": {
            "text/plain": [
              "         Red  Visitas al perfil   Seguidores  Nuevos seguidores  \\\n",
              "0   Facebook               595.0       189.0               55.0   \n",
              "1  Instagram              8000.0      2680.0              400.0   \n",
              "\n",
              "   Alcance con publicidad  Interacción con anuncios  \\\n",
              "0                  1100.0                     330.0   \n",
              "1                  4018.0                    2812.6   \n",
              "\n",
              "   Conversaciones con mensajes iniciadas con anuncios  Ventas con anuncio  \\\n",
              "0                                              165.0                 11.0   \n",
              "1                                             1607.2                 29.0   \n",
              "\n",
              "   Alcance sin publicidad  Interacción sin publicidad  \\\n",
              "0                   150.0                          12   \n",
              "1                   580.0                          87   \n",
              "\n",
              "   Conversaciones con mensajes iniciadas sin publicidad  Ventas sin anuncio  \n",
              "0                                                  6                    3.0  \n",
              "1                                                 87                    7.0  "
            ],
            "text/html": [
              "\n",
              "  <div id=\"df-61c83bfe-3ca8-43a2-8639-e7a47483d4eb\">\n",
              "    <div class=\"colab-df-container\">\n",
              "      <div>\n",
              "<style scoped>\n",
              "    .dataframe tbody tr th:only-of-type {\n",
              "        vertical-align: middle;\n",
              "    }\n",
              "\n",
              "    .dataframe tbody tr th {\n",
              "        vertical-align: top;\n",
              "    }\n",
              "\n",
              "    .dataframe thead th {\n",
              "        text-align: right;\n",
              "    }\n",
              "</style>\n",
              "<table border=\"1\" class=\"dataframe\">\n",
              "  <thead>\n",
              "    <tr style=\"text-align: right;\">\n",
              "      <th></th>\n",
              "      <th>Red</th>\n",
              "      <th>Visitas al perfil</th>\n",
              "      <th>Seguidores</th>\n",
              "      <th>Nuevos seguidores</th>\n",
              "      <th>Alcance con publicidad</th>\n",
              "      <th>Interacción con anuncios</th>\n",
              "      <th>Conversaciones con mensajes iniciadas con anuncios</th>\n",
              "      <th>Ventas con anuncio</th>\n",
              "      <th>Alcance sin publicidad</th>\n",
              "      <th>Interacción sin publicidad</th>\n",
              "      <th>Conversaciones con mensajes iniciadas sin publicidad</th>\n",
              "      <th>Ventas sin anuncio</th>\n",
              "    </tr>\n",
              "  </thead>\n",
              "  <tbody>\n",
              "    <tr>\n",
              "      <th>0</th>\n",
              "      <td>Facebook</td>\n",
              "      <td>595.0</td>\n",
              "      <td>189.0</td>\n",
              "      <td>55.0</td>\n",
              "      <td>1100.0</td>\n",
              "      <td>330.0</td>\n",
              "      <td>165.0</td>\n",
              "      <td>11.0</td>\n",
              "      <td>150.0</td>\n",
              "      <td>12</td>\n",
              "      <td>6</td>\n",
              "      <td>3.0</td>\n",
              "    </tr>\n",
              "    <tr>\n",
              "      <th>1</th>\n",
              "      <td>Instagram</td>\n",
              "      <td>8000.0</td>\n",
              "      <td>2680.0</td>\n",
              "      <td>400.0</td>\n",
              "      <td>4018.0</td>\n",
              "      <td>2812.6</td>\n",
              "      <td>1607.2</td>\n",
              "      <td>29.0</td>\n",
              "      <td>580.0</td>\n",
              "      <td>87</td>\n",
              "      <td>87</td>\n",
              "      <td>7.0</td>\n",
              "    </tr>\n",
              "  </tbody>\n",
              "</table>\n",
              "</div>\n",
              "      <button class=\"colab-df-convert\" onclick=\"convertToInteractive('df-61c83bfe-3ca8-43a2-8639-e7a47483d4eb')\"\n",
              "              title=\"Convert this dataframe to an interactive table.\"\n",
              "              style=\"display:none;\">\n",
              "        \n",
              "  <svg xmlns=\"http://www.w3.org/2000/svg\" height=\"24px\"viewBox=\"0 0 24 24\"\n",
              "       width=\"24px\">\n",
              "    <path d=\"M0 0h24v24H0V0z\" fill=\"none\"/>\n",
              "    <path d=\"M18.56 5.44l.94 2.06.94-2.06 2.06-.94-2.06-.94-.94-2.06-.94 2.06-2.06.94zm-11 1L8.5 8.5l.94-2.06 2.06-.94-2.06-.94L8.5 2.5l-.94 2.06-2.06.94zm10 10l.94 2.06.94-2.06 2.06-.94-2.06-.94-.94-2.06-.94 2.06-2.06.94z\"/><path d=\"M17.41 7.96l-1.37-1.37c-.4-.4-.92-.59-1.43-.59-.52 0-1.04.2-1.43.59L10.3 9.45l-7.72 7.72c-.78.78-.78 2.05 0 2.83L4 21.41c.39.39.9.59 1.41.59.51 0 1.02-.2 1.41-.59l7.78-7.78 2.81-2.81c.8-.78.8-2.07 0-2.86zM5.41 20L4 18.59l7.72-7.72 1.47 1.35L5.41 20z\"/>\n",
              "  </svg>\n",
              "      </button>\n",
              "      \n",
              "  <style>\n",
              "    .colab-df-container {\n",
              "      display:flex;\n",
              "      flex-wrap:wrap;\n",
              "      gap: 12px;\n",
              "    }\n",
              "\n",
              "    .colab-df-convert {\n",
              "      background-color: #E8F0FE;\n",
              "      border: none;\n",
              "      border-radius: 50%;\n",
              "      cursor: pointer;\n",
              "      display: none;\n",
              "      fill: #1967D2;\n",
              "      height: 32px;\n",
              "      padding: 0 0 0 0;\n",
              "      width: 32px;\n",
              "    }\n",
              "\n",
              "    .colab-df-convert:hover {\n",
              "      background-color: #E2EBFA;\n",
              "      box-shadow: 0px 1px 2px rgba(60, 64, 67, 0.3), 0px 1px 3px 1px rgba(60, 64, 67, 0.15);\n",
              "      fill: #174EA6;\n",
              "    }\n",
              "\n",
              "    [theme=dark] .colab-df-convert {\n",
              "      background-color: #3B4455;\n",
              "      fill: #D2E3FC;\n",
              "    }\n",
              "\n",
              "    [theme=dark] .colab-df-convert:hover {\n",
              "      background-color: #434B5C;\n",
              "      box-shadow: 0px 1px 3px 1px rgba(0, 0, 0, 0.15);\n",
              "      filter: drop-shadow(0px 1px 2px rgba(0, 0, 0, 0.3));\n",
              "      fill: #FFFFFF;\n",
              "    }\n",
              "  </style>\n",
              "\n",
              "      <script>\n",
              "        const buttonEl =\n",
              "          document.querySelector('#df-61c83bfe-3ca8-43a2-8639-e7a47483d4eb button.colab-df-convert');\n",
              "        buttonEl.style.display =\n",
              "          google.colab.kernel.accessAllowed ? 'block' : 'none';\n",
              "\n",
              "        async function convertToInteractive(key) {\n",
              "          const element = document.querySelector('#df-61c83bfe-3ca8-43a2-8639-e7a47483d4eb');\n",
              "          const dataTable =\n",
              "            await google.colab.kernel.invokeFunction('convertToInteractive',\n",
              "                                                     [key], {});\n",
              "          if (!dataTable) return;\n",
              "\n",
              "          const docLinkHtml = 'Like what you see? Visit the ' +\n",
              "            '<a target=\"_blank\" href=https://colab.research.google.com/notebooks/data_table.ipynb>data table notebook</a>'\n",
              "            + ' to learn more about interactive tables.';\n",
              "          element.innerHTML = '';\n",
              "          dataTable['output_type'] = 'display_data';\n",
              "          await google.colab.output.renderOutput(dataTable, element);\n",
              "          const docLink = document.createElement('div');\n",
              "          docLink.innerHTML = docLinkHtml;\n",
              "          element.appendChild(docLink);\n",
              "        }\n",
              "      </script>\n",
              "    </div>\n",
              "  </div>\n",
              "  "
            ]
          },
          "metadata": {},
          "execution_count": 10
        }
      ]
    },
    {
      "cell_type": "code",
      "source": [
        "### Variables independientes DATA 1\n",
        "x = df1.iloc [:,:-1].values\n",
        "print(x)"
      ],
      "metadata": {
        "colab": {
          "base_uri": "https://localhost:8080/"
        },
        "id": "P0umyqEKggef",
        "outputId": "65f63860-8b27-4235-8830-f2c43604d167"
      },
      "execution_count": null,
      "outputs": [
        {
          "output_type": "stream",
          "name": "stdout",
          "text": [
            "[[20.]\n",
            " [21.]\n",
            " [22.]\n",
            " [23.]\n",
            " [24.]\n",
            " [25.]\n",
            " [26.]\n",
            " [27.]\n",
            " [28.]\n",
            " [29.]\n",
            " [30.]\n",
            " [31.]\n",
            " [32.]\n",
            " [33.]\n",
            " [34.]\n",
            " [35.]\n",
            " [36.]\n",
            " [37.]\n",
            " [38.]\n",
            " [39.]\n",
            " [40.]\n",
            " [41.]\n",
            " [42.]\n",
            " [43.]\n",
            " [44.]\n",
            " [45.]\n",
            " [46.]\n",
            " [47.]\n",
            " [48.]]\n"
          ]
        }
      ]
    },
    {
      "cell_type": "code",
      "source": [
        "## Variable dependiente DATA 1\n",
        "y = df1.iloc [:,-1].values\n",
        "print(y)"
      ],
      "metadata": {
        "colab": {
          "base_uri": "https://localhost:8080/"
        },
        "id": "ZiK5FMqQgxMC",
        "outputId": "3f65c134-ad49-42ff-e135-ffe83ec86bf0"
      },
      "execution_count": null,
      "outputs": [
        {
          "output_type": "stream",
          "name": "stdout",
          "text": [
            "[ 95.  97.  97.  97.  99. 100. 100. 102. 105. 107. 107. 112. 113. 115.\n",
            " 115. 115. 117. 121. 125. 125. 125. 127. 131. 135. 136. 136. 140. 142.\n",
            " 147.]\n"
          ]
        }
      ]
    },
    {
      "cell_type": "code",
      "source": [
        "### Dividir en datos de entrenamiento y prueba\n",
        "from sklearn.model_selection import train_test_split\n",
        "X_train,X_test,y_train,y_test = train_test_split(x,y,test_size=0.2,random_state = 0)"
      ],
      "metadata": {
        "id": "Aqw9Yo5foDwx"
      },
      "execution_count": null,
      "outputs": []
    },
    {
      "cell_type": "code",
      "source": [
        "### Entrenando el modelo de regresión simple con los datos de entrenamiento\n",
        "from sklearn.linear_model import LinearRegression\n",
        "regressor = LinearRegression()\n",
        "regressor.fit(X_train,y_train)"
      ],
      "metadata": {
        "colab": {
          "base_uri": "https://localhost:8080/"
        },
        "id": "4Lz4tlUHoFpP",
        "outputId": "deaa9587-01f0-4ba9-b3e5-7c574fc5a220"
      },
      "execution_count": null,
      "outputs": [
        {
          "output_type": "execute_result",
          "data": {
            "text/plain": [
              "LinearRegression()"
            ]
          },
          "metadata": {},
          "execution_count": 11
        }
      ]
    },
    {
      "cell_type": "code",
      "source": [
        "### Prediciendo resultados con los datos de prueba\n",
        "y_pred = regressor.predict(X_test)\n",
        "print(y_pred)"
      ],
      "metadata": {
        "colab": {
          "base_uri": "https://localhost:8080/"
        },
        "id": "XnFUId0Z0X9_",
        "outputId": "b6963112-0a51-4bb9-f5b8-a365f7093d85"
      },
      "execution_count": null,
      "outputs": [
        {
          "output_type": "stream",
          "name": "stdout",
          "text": [
            "[ 94.58114654 127.57891095 133.07853835 114.74644701 111.08002874\n",
            " 136.74495662]\n"
          ]
        }
      ]
    },
    {
      "cell_type": "code",
      "source": [
        "### Visualizando los resultados de entrenamiento\n",
        "plt.scatter(X_train,y_train,color ='red')\n",
        "plt.plot(X_train, regressor.predict(X_train),color ='violet')\n",
        "plt.title(\"Edad vs Ventas\")\n",
        "plt.xlabel(\"Edad\")\n",
        "plt.ylabel(\"Ventas\")\n",
        "plt.show()"
      ],
      "metadata": {
        "colab": {
          "base_uri": "https://localhost:8080/",
          "height": 295
        },
        "id": "nPvLtxTR0as8",
        "outputId": "ad389062-400a-48a3-f354-1c00758b76e6"
      },
      "execution_count": null,
      "outputs": [
        {
          "output_type": "display_data",
          "data": {
            "text/plain": [
              "<Figure size 432x288 with 1 Axes>"
            ],
            "image/png": "[encoded data removed]"
          },
          "metadata": {
            "needs_background": "light"
          }
        }
      ]
    },
    {
      "cell_type": "code",
      "source": [
        "### Visualizando los resultados de prueba\n",
        "plt.scatter(X_test,y_test,color ='red')\n",
        "plt.plot(X_train, regressor.predict(X_train),color ='violet')\n",
        "plt.title(\"Edad vs Ventas\")\n",
        "plt.xlabel(\"Edad\")\n",
        "plt.ylabel(\"Ventas\")\n",
        "plt.show()"
      ],
      "metadata": {
        "colab": {
          "base_uri": "https://localhost:8080/",
          "height": 295
        },
        "id": "en2ipuF9Q8va",
        "outputId": "12c43eac-00da-48b8-d1a4-97aad23bc2e3"
      },
      "execution_count": null,
      "outputs": [
        {
          "output_type": "display_data",
          "data": {
            "text/plain": [
              "<Figure size 432x288 with 1 Axes>"
            ],
            "image/png": "[encoded data removed]"
          },
          "metadata": {
            "needs_background": "light"
          }
        }
      ]
    },
    {
      "cell_type": "code",
      "source": [
        "### Evidenciando métricas de error\n",
        "from sklearn import metrics\n",
        "print(metrics.mean_absolute_error(y_test,y_pred))\n",
        "\n",
        "print(metrics.mean_squared_error(y_test,y_pred))\n",
        "\n",
        "print(np.sqrt(metrics.mean_squared_error(y_test,y_pred)))"
      ],
      "metadata": {
        "colab": {
          "base_uri": "https://localhost:8080/"
        },
        "id": "Ry0eLntK1cfg",
        "outputId": "976d5138-959d-45c0-e3a3-4eb8830b98c1"
      },
      "execution_count": null,
      "outputs": [
        {
          "output_type": "stream",
          "name": "stdout",
          "text": [
            "1.4729511541668951\n",
            "2.9432075367112116\n",
            "1.7155779016737223\n"
          ]
        }
      ]
    }
  ]
}